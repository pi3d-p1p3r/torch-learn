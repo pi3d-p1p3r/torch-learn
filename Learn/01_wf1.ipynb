{
 "cells": [
  {
   "cell_type": "code",
   "metadata": {
    "ExecuteTime": {
     "end_time": "2025-03-02T11:34:28.841785Z",
     "start_time": "2025-03-02T11:34:26.270988Z"
    }
   },
   "source": [
    "import torch\n",
    "from torch import nn\n",
    "import matplotlib.pyplot as plt\n",
    "import numpy as np\n",
    "\n",
    "torch.__version__"
   ],
   "outputs": [
    {
     "data": {
      "text/plain": [
       "'2.6.0+cu126'"
      ]
     },
     "execution_count": 1,
     "metadata": {},
     "output_type": "execute_result"
    }
   ],
   "execution_count": 1
  },
  {
   "cell_type": "markdown",
   "metadata": {},
   "source": [
    "## Data (preparing and loading)\n",
    "Y = b * X + a,\n",
    "b = weight,\n",
    "a = bias"
   ]
  },
  {
   "cell_type": "code",
   "metadata": {
    "ExecuteTime": {
     "end_time": "2025-03-02T11:34:28.874283Z",
     "start_time": "2025-03-02T11:34:28.850849Z"
    }
   },
   "source": [
    "weight = 0.7\n",
    "bias = 0.3\n",
    "\n",
    "start = 0\n",
    "end = 1\n",
    "step = 0.02\n",
    "X = torch.arange(start, end, step).unsqueeze(dim=1)\n",
    "Y = weight * X + bias\n",
    "\n",
    "X[:10], Y[:10]"
   ],
   "outputs": [
    {
     "data": {
      "text/plain": [
       "(tensor([[0.0000],\n",
       "         [0.0200],\n",
       "         [0.0400],\n",
       "         [0.0600],\n",
       "         [0.0800],\n",
       "         [0.1000],\n",
       "         [0.1200],\n",
       "         [0.1400],\n",
       "         [0.1600],\n",
       "         [0.1800]]),\n",
       " tensor([[0.3000],\n",
       "         [0.3140],\n",
       "         [0.3280],\n",
       "         [0.3420],\n",
       "         [0.3560],\n",
       "         [0.3700],\n",
       "         [0.3840],\n",
       "         [0.3980],\n",
       "         [0.4120],\n",
       "         [0.4260]]))"
      ]
     },
     "execution_count": 2,
     "metadata": {},
     "output_type": "execute_result"
    }
   ],
   "execution_count": 2
  },
  {
   "cell_type": "code",
   "metadata": {
    "ExecuteTime": {
     "end_time": "2025-03-02T11:34:28.984241Z",
     "start_time": "2025-03-02T11:34:28.976845Z"
    }
   },
   "source": [
    "len(X), len(Y)"
   ],
   "outputs": [
    {
     "data": {
      "text/plain": [
       "(50, 50)"
      ]
     },
     "execution_count": 3,
     "metadata": {},
     "output_type": "execute_result"
    }
   ],
   "execution_count": 3
  },
  {
   "cell_type": "code",
   "metadata": {
    "ExecuteTime": {
     "end_time": "2025-03-02T11:34:29.028749Z",
     "start_time": "2025-03-02T11:34:29.020679Z"
    }
   },
   "source": [
    "train_split = int(0.8*len(X))\n",
    "X_train, Y_train = X[:train_split], Y[:train_split]\n",
    "X_test, Y_test = X[train_split:], Y[train_split:]\n",
    "\n",
    "len(X_train), len(Y_train), len(X_test), len(Y_test)"
   ],
   "outputs": [
    {
     "data": {
      "text/plain": [
       "(40, 40, 10, 10)"
      ]
     },
     "execution_count": 4,
     "metadata": {},
     "output_type": "execute_result"
    }
   ],
   "execution_count": 4
  },
  {
   "cell_type": "code",
   "metadata": {
    "ExecuteTime": {
     "end_time": "2025-03-02T11:34:29.067278Z",
     "start_time": "2025-03-02T11:34:29.060695Z"
    }
   },
   "source": [
    "def plot_predictions(train_data=X_train,\n",
    "                     train_labels=Y_train,\n",
    "                     test_data=X_test,\n",
    "                     test_labels=Y_test,\n",
    "                     predictions=None):\n",
    "    plt.figure(figsize=(10, 7))\n",
    "\n",
    "    # Plot training data\n",
    "    plt.scatter(train_data, train_labels, label='Train Data', color='blue') \n",
    "    \n",
    "    # Plot test data\n",
    "    plt.scatter(test_data, test_labels, label='Test Data', color='green')\n",
    "\n",
    "    # Check if predictions is not None\n",
    "    if predictions is not None:\n",
    "        plt.scatter(test_data, predictions, label='Predictions', color='red')\n",
    "\n",
    "    # Show legend\n",
    "    plt.legend(prop={'size': 14})\n",
    "    plt.show()"
   ],
   "outputs": [],
   "execution_count": 5
  },
  {
   "cell_type": "code",
   "metadata": {
    "ExecuteTime": {
     "end_time": "2025-03-02T11:34:29.287638Z",
     "start_time": "2025-03-02T11:34:29.085317Z"
    }
   },
   "source": [
    "plot_predictions()"
   ],
   "outputs": [
    {
     "data": {
      "text/plain": [
       "<Figure size 1000x700 with 1 Axes>"
      ],
      "image/png": "[encoded data removed]"
     },
     "metadata": {},
     "output_type": "display_data"
    }
   ],
   "execution_count": 6
  },
  {
   "cell_type": "code",
   "metadata": {
    "ExecuteTime": {
     "end_time": "2025-03-02T11:34:29.307059Z",
     "start_time": "2025-03-02T11:34:29.299453Z"
    }
   },
   "source": [
    "# Create Linear Regression Class\n",
    "\n",
    "class LinearRegressionModel(nn.Module):\n",
    "    def __init__(self):\n",
    "        super().__init__()\n",
    "        self.weights = nn.Parameter(torch.randn(1,\n",
    "                                                requires_grad=True,\n",
    "                                                dtype=torch.float))\n",
    "        self.bias = nn.Parameter(torch.randn(1,\n",
    "                                             requires_grad=True,\n",
    "                                             dtype=torch.float))\n",
    "        \n",
    "    # Forward method to define the computation in a model\n",
    "    \n",
    "    def forward(self, x: torch.Tensor) -> torch.Tensor:\n",
    "        return self.weights * x + self.bias # This is the linear regression formula"
   ],
   "outputs": [],
   "execution_count": 7
  },
  {
   "cell_type": "code",
   "metadata": {
    "ExecuteTime": {
     "end_time": "2025-03-02T11:34:29.346449Z",
     "start_time": "2025-03-02T11:34:29.337933Z"
    }
   },
   "source": [
    "torch.randn(1)"
   ],
   "outputs": [
    {
     "data": {
      "text/plain": [
       "tensor([0.7202])"
      ]
     },
     "execution_count": 8,
     "metadata": {},
     "output_type": "execute_result"
    }
   ],
   "execution_count": 8
  },
  {
   "cell_type": "code",
   "metadata": {
    "ExecuteTime": {
     "end_time": "2025-03-02T11:34:29.394118Z",
     "start_time": "2025-03-02T11:34:29.376980Z"
    }
   },
   "source": [
    "# Create random seed\n",
    "torch.manual_seed(42)\n",
    "\n",
    "# Create an instance of the regression model\n",
    "model_0 = LinearRegressionModel()\n",
    "\n",
    "# Check the model parameters\n",
    "list(model_0.parameters())"
   ],
   "outputs": [
    {
     "data": {
      "text/plain": [
       "[Parameter containing:\n",
       " tensor([0.3367], requires_grad=True),\n",
       " Parameter containing:\n",
       " tensor([0.1288], requires_grad=True)]"
      ]
     },
     "execution_count": 9,
     "metadata": {},
     "output_type": "execute_result"
    }
   ],
   "execution_count": 9
  },
  {
   "cell_type": "code",
   "metadata": {
    "ExecuteTime": {
     "end_time": "2025-03-02T11:34:29.422291Z",
     "start_time": "2025-03-02T11:34:29.413369Z"
    }
   },
   "source": [
    "model_0.state_dict()"
   ],
   "outputs": [
    {
     "data": {
      "text/plain": [
       "OrderedDict([('weights', tensor([0.3367])), ('bias', tensor([0.1288]))])"
      ]
     },
     "execution_count": 10,
     "metadata": {},
     "output_type": "execute_result"
    }
   ],
   "execution_count": 10
  },
  {
   "cell_type": "code",
   "metadata": {
    "ExecuteTime": {
     "end_time": "2025-03-02T11:34:29.464804Z",
     "start_time": "2025-03-02T11:34:29.458305Z"
    }
   },
   "source": [
    "weight, bias"
   ],
   "outputs": [
    {
     "data": {
      "text/plain": [
       "(0.7, 0.3)"
      ]
     },
     "execution_count": 11,
     "metadata": {},
     "output_type": "execute_result"
    }
   ],
   "execution_count": 11
  },
  {
   "cell_type": "code",
   "metadata": {
    "ExecuteTime": {
     "end_time": "2025-03-02T11:34:29.512925Z",
     "start_time": "2025-03-02T11:34:29.504817Z"
    }
   },
   "source": [
    "# Make predictions with model\n",
    "with torch.inference_mode():\n",
    "    Y_pred = model_0(X_test)\n",
    "Y_pred"
   ],
   "outputs": [
    {
     "data": {
      "text/plain": [
       "tensor([[0.3982],\n",
       "        [0.4049],\n",
       "        [0.4116],\n",
       "        [0.4184],\n",
       "        [0.4251],\n",
       "        [0.4318],\n",
       "        [0.4386],\n",
       "        [0.4453],\n",
       "        [0.4520],\n",
       "        [0.4588]])"
      ]
     },
     "execution_count": 12,
     "metadata": {},
     "output_type": "execute_result"
    }
   ],
   "execution_count": 12
  },
  {
   "cell_type": "code",
   "metadata": {
    "ExecuteTime": {
     "end_time": "2025-03-02T11:34:30.028680Z",
     "start_time": "2025-03-02T11:34:30.020886Z"
    }
   },
   "source": [
    "Y_test"
   ],
   "outputs": [
    {
     "data": {
      "text/plain": [
       "tensor([[0.8600],\n",
       "        [0.8740],\n",
       "        [0.8880],\n",
       "        [0.9020],\n",
       "        [0.9160],\n",
       "        [0.9300],\n",
       "        [0.9440],\n",
       "        [0.9580],\n",
       "        [0.9720],\n",
       "        [0.9860]])"
      ]
     },
     "execution_count": 13,
     "metadata": {},
     "output_type": "execute_result"
    }
   ],
   "execution_count": 13
  },
  {
   "cell_type": "code",
   "metadata": {
    "ExecuteTime": {
     "end_time": "2025-03-02T11:34:30.253253Z",
     "start_time": "2025-03-02T11:34:30.088690Z"
    }
   },
   "source": [
    "plot_predictions(predictions=Y_pred)"
   ],
   "outputs": [
    {
     "data": {
      "text/plain": [
       "<Figure size 1000x700 with 1 Axes>"
      ],
      "image/png": "[encoded data removed]"
     },
     "metadata": {},
     "output_type": "display_data"
    }
   ],
   "execution_count": 14
  },
  {
   "cell_type": "code",
   "metadata": {
    "ExecuteTime": {
     "end_time": "2025-03-02T11:34:30.300938Z",
     "start_time": "2025-03-02T11:34:30.293466Z"
    }
   },
   "source": [
    "list(model_0.parameters())"
   ],
   "outputs": [
    {
     "data": {
      "text/plain": [
       "[Parameter containing:\n",
       " tensor([0.3367], requires_grad=True),\n",
       " Parameter containing:\n",
       " tensor([0.1288], requires_grad=True)]"
      ]
     },
     "execution_count": 15,
     "metadata": {},
     "output_type": "execute_result"
    }
   ],
   "execution_count": 15
  },
  {
   "cell_type": "code",
   "metadata": {
    "ExecuteTime": {
     "end_time": "2025-03-02T11:34:30.359507Z",
     "start_time": "2025-03-02T11:34:30.351416Z"
    }
   },
   "source": [
    "model_0.state_dict()"
   ],
   "outputs": [
    {
     "data": {
      "text/plain": [
       "OrderedDict([('weights', tensor([0.3367])), ('bias', tensor([0.1288]))])"
      ]
     },
     "execution_count": 16,
     "metadata": {},
     "output_type": "execute_result"
    }
   ],
   "execution_count": 16
  },
  {
   "cell_type": "code",
   "metadata": {
    "ExecuteTime": {
     "end_time": "2025-03-02T11:34:32.265639Z",
     "start_time": "2025-03-02T11:34:30.411446Z"
    }
   },
   "source": [
    "# Setup a loss function\n",
    "loss_fn = nn.L1Loss()\n",
    "\n",
    "# Setup an optimizer\n",
    "optimizer = torch.optim.SGD(model_0.parameters(), lr=0.01)  "
   ],
   "outputs": [],
   "execution_count": 17
  },
  {
   "cell_type": "code",
   "metadata": {
    "ExecuteTime": {
     "end_time": "2025-03-02T11:34:32.287726Z",
     "start_time": "2025-03-02T11:34:32.281809Z"
    }
   },
   "source": [
    "with torch.no_grad():\n",
    "    list(model_0.parameters())"
   ],
   "outputs": [],
   "execution_count": 18
  },
  {
   "cell_type": "code",
   "metadata": {
    "ExecuteTime": {
     "end_time": "2025-03-02T11:34:32.312558Z",
     "start_time": "2025-03-02T11:34:32.303559Z"
    }
   },
   "source": [
    "list(model_0.parameters())"
   ],
   "outputs": [
    {
     "data": {
      "text/plain": [
       "[Parameter containing:\n",
       " tensor([0.3367], requires_grad=True),\n",
       " Parameter containing:\n",
       " tensor([0.1288], requires_grad=True)]"
      ]
     },
     "execution_count": 19,
     "metadata": {},
     "output_type": "execute_result"
    }
   ],
   "execution_count": 19
  },
  {
   "cell_type": "code",
   "metadata": {
    "ExecuteTime": {
     "end_time": "2025-03-02T11:39:15.818490Z",
     "start_time": "2025-03-02T11:39:15.756067Z"
    }
   },
   "source": [
    "# Epoch is one loop through the entire dataset (this is a hyperparameter)\n",
    "epochs = 100\n",
    "epoch_count = []\n",
    "loss_values = []\n",
    "test_loss_values = []\n",
    "\n",
    "### Training the model\n",
    "# 0. Loop through the data\n",
    "for epoch in range(epochs):\n",
    "    #Set the model to training mode\n",
    "    model_0.train() # trains mode in pytorch set\n",
    "\n",
    "    # 1. Forward pass: compute predicted y by passing x to the model.\n",
    "    Y_pred = model_0(X_train)\n",
    "\n",
    "    # 2. Compute and print loss.\n",
    "    loss = loss_fn(Y_pred, Y_train)\n",
    "    print(f\"Loss: {loss}\")\n",
    "\n",
    "    # 3. Optimizer zero gradients\n",
    "    optimizer.zero_grad()\n",
    "\n",
    "    # 4. Perform backpropagation on the loss wrt params of the model\n",
    "    loss.backward()\n",
    "\n",
    "    # 5. Step the optimizer (Perform Gradient Descent)\n",
    "    optimizer.step() # by default how the optimizer changes will accumulate through the loop\n",
    "\n",
    "    ### Testing the model\n",
    "    # Set the model to evaluation mode\n",
    "    model_0.eval() # evaluation mode in pytorch set \n",
    "    with torch.inference_mode():\n",
    "        # 1. Do the forward pass\n",
    "        test_predictions = model_0(X_test)\n",
    "        # 2. Calculate the loss\n",
    "        test_loss = loss_fn(test_predictions, Y_test)\n",
    "\n",
    "    if epoch % 10 == 0:\n",
    "        epoch_count.append(epoch)\n",
    "        loss_values.append(loss)\n",
    "        test_loss_values.append(test_loss) \n",
    "        print(f\"Epoch: {epoch}, Training Loss: {loss}, Testing Loss: {test_loss}\")\n",
    "\n",
    "        # Print out model state_dict()\n",
    "        print(model_0.state_dict())"
   ],
   "outputs": [
    {
     "name": "stdout",
     "output_type": "stream",
     "text": [
      "Loss: 0.024458957836031914\n",
      "Epoch: 0, Training Loss: 0.024458957836031914, Testing Loss: 0.05646304413676262\n",
      "OrderedDict({'weights': tensor([0.5800]), 'bias': tensor([0.3503])})\n",
      "Loss: 0.024110013619065285\n",
      "Loss: 0.02376994863152504\n",
      "Loss: 0.02342480979859829\n",
      "Loss: 0.023080935701727867\n",
      "Loss: 0.022739607840776443\n",
      "Loss: 0.022391926497220993\n",
      "Loss: 0.022054409608244896\n",
      "Loss: 0.02170540764927864\n",
      "Loss: 0.021366719156503677\n",
      "Loss: 0.021020207554101944\n",
      "Epoch: 10, Training Loss: 0.021020207554101944, Testing Loss: 0.04819049686193466\n",
      "OrderedDict({'weights': tensor([0.5972]), 'bias': tensor([0.3433])})\n",
      "Loss: 0.020677709951996803\n",
      "Loss: 0.02033500373363495\n",
      "Loss: 0.01998869702219963\n",
      "Loss: 0.019649803638458252\n",
      "Loss: 0.019300809130072594\n",
      "Loss: 0.018963487818837166\n",
      "Loss: 0.01861560344696045\n",
      "Loss: 0.018274478614330292\n",
      "Loss: 0.017930403351783752\n",
      "Loss: 0.01758546568453312\n",
      "Epoch: 20, Training Loss: 0.01758546568453312, Testing Loss: 0.04060482233762741\n",
      "OrderedDict({'weights': tensor([0.6141]), 'bias': tensor([0.3358])})\n",
      "Loss: 0.017245199531316757\n",
      "Loss: 0.016896454617381096\n",
      "Loss: 0.01656000316143036\n",
      "Loss: 0.016210997477173805\n",
      "Loss: 0.01587124727666378\n",
      "Loss: 0.015525798313319683\n",
      "Loss: 0.015182236209511757\n",
      "Loss: 0.014840595424175262\n",
      "Loss: 0.01449323259294033\n",
      "Loss: 0.014155393466353416\n",
      "Epoch: 30, Training Loss: 0.014155393466353416, Testing Loss: 0.03233227878808975\n",
      "OrderedDict({'weights': tensor([0.6313]), 'bias': tensor([0.3288])})\n",
      "Loss: 0.013806397095322609\n",
      "Loss: 0.013468016870319843\n",
      "Loss: 0.013121193274855614\n",
      "Loss: 0.01277900766581297\n",
      "Loss: 0.012435992248356342\n",
      "Loss: 0.01208999752998352\n",
      "Loss: 0.011750795878469944\n",
      "Loss: 0.011401787400245667\n",
      "Loss: 0.011064787395298481\n",
      "Loss: 0.010716589167714119\n",
      "Epoch: 40, Training Loss: 0.010716589167714119, Testing Loss: 0.024059748277068138\n",
      "OrderedDict({'weights': tensor([0.6485]), 'bias': tensor([0.3218])})\n",
      "Loss: 0.010375778190791607\n",
      "Loss: 0.010031387209892273\n",
      "Loss: 0.009686763398349285\n",
      "Loss: 0.009346187114715576\n",
      "Loss: 0.008997755125164986\n",
      "Loss: 0.008660981431603432\n",
      "Loss: 0.008311985060572624\n",
      "Loss: 0.007972544990479946\n",
      "Loss: 0.007626785431057215\n",
      "Loss: 0.0072835334576666355\n",
      "Epoch: 50, Training Loss: 0.0072835334576666355, Testing Loss: 0.016474086791276932\n",
      "OrderedDict({'weights': tensor([0.6654]), 'bias': tensor([0.3143])})\n",
      "Loss: 0.006941580679267645\n",
      "Loss: 0.006594526115804911\n",
      "Loss: 0.006256377790123224\n",
      "Loss: 0.005907376762479544\n",
      "Loss: 0.005569315515458584\n",
      "Loss: 0.005222178064286709\n",
      "Loss: 0.004880306776612997\n",
      "Loss: 0.004536976106464863\n",
      "Loss: 0.00419129803776741\n",
      "Loss: 0.0038517764769494534\n",
      "Epoch: 60, Training Loss: 0.0038517764769494534, Testing Loss: 0.008201557211577892\n",
      "OrderedDict({'weights': tensor([0.6826]), 'bias': tensor([0.3073])})\n",
      "Loss: 0.0035027749836444855\n",
      "Loss: 0.0031660839449614286\n",
      "Loss: 0.002817571861669421\n",
      "Loss: 0.0024770735763013363\n",
      "Loss: 0.0021323717664927244\n",
      "Loss: 0.0017880648374557495\n",
      "Loss: 0.0014518328243866563\n",
      "Loss: 0.0011887758737429976\n",
      "Loss: 0.0025885067880153656\n",
      "Loss: 0.008932482451200485\n",
      "Epoch: 70, Training Loss: 0.008932482451200485, Testing Loss: 0.005023092031478882\n",
      "OrderedDict({'weights': tensor([0.6951]), 'bias': tensor([0.2993])})\n",
      "Loss: 0.0025885067880153656\n",
      "Loss: 0.008932482451200485\n",
      "Loss: 0.0025885067880153656\n",
      "Loss: 0.008932482451200485\n",
      "Loss: 0.0025885067880153656\n",
      "Loss: 0.008932482451200485\n",
      "Loss: 0.0025885067880153656\n",
      "Loss: 0.008932482451200485\n",
      "Loss: 0.0025885067880153656\n",
      "Loss: 0.008932482451200485\n",
      "Epoch: 80, Training Loss: 0.008932482451200485, Testing Loss: 0.005023092031478882\n",
      "OrderedDict({'weights': tensor([0.6951]), 'bias': tensor([0.2993])})\n",
      "Loss: 0.0025885067880153656\n",
      "Loss: 0.008932482451200485\n",
      "Loss: 0.0025885067880153656\n",
      "Loss: 0.008932482451200485\n",
      "Loss: 0.0025885067880153656\n",
      "Loss: 0.008932482451200485\n",
      "Loss: 0.0025885067880153656\n",
      "Loss: 0.008932482451200485\n",
      "Loss: 0.0025885067880153656\n",
      "Loss: 0.008932482451200485\n",
      "Epoch: 90, Training Loss: 0.008932482451200485, Testing Loss: 0.005023092031478882\n",
      "OrderedDict({'weights': tensor([0.6951]), 'bias': tensor([0.2993])})\n",
      "Loss: 0.0025885067880153656\n",
      "Loss: 0.008932482451200485\n",
      "Loss: 0.0025885067880153656\n",
      "Loss: 0.008932482451200485\n",
      "Loss: 0.0025885067880153656\n",
      "Loss: 0.008932482451200485\n",
      "Loss: 0.0025885067880153656\n",
      "Loss: 0.008932482451200485\n",
      "Loss: 0.0025885067880153656\n"
     ]
    }
   ],
   "execution_count": 33
  },
  {
   "cell_type": "code",
   "metadata": {
    "ExecuteTime": {
     "end_time": "2025-03-02T11:34:33.810016Z",
     "start_time": "2025-03-02T11:34:33.805327Z"
    }
   },
   "source": [
    "with torch.inference_mode():\n",
    "    Y_pred_new = model_0(X_test)"
   ],
   "outputs": [],
   "execution_count": 21
  },
  {
   "cell_type": "code",
   "metadata": {
    "ExecuteTime": {
     "end_time": "2025-03-02T11:34:33.836591Z",
     "start_time": "2025-03-02T11:34:33.830479Z"
    }
   },
   "source": [
    "model_0.state_dict()"
   ],
   "outputs": [
    {
     "data": {
      "text/plain": [
       "OrderedDict([('weights', tensor([0.5784])), ('bias', tensor([0.3513]))])"
      ]
     },
     "execution_count": 22,
     "metadata": {},
     "output_type": "execute_result"
    }
   ],
   "execution_count": 22
  },
  {
   "cell_type": "code",
   "metadata": {
    "ExecuteTime": {
     "end_time": "2025-03-02T11:34:33.862110Z",
     "start_time": "2025-03-02T11:34:33.854730Z"
    }
   },
   "source": [
    "(weight, bias)"
   ],
   "outputs": [
    {
     "data": {
      "text/plain": [
       "(0.7, 0.3)"
      ]
     },
     "execution_count": 23,
     "metadata": {},
     "output_type": "execute_result"
    }
   ],
   "execution_count": 23
  },
  {
   "cell_type": "code",
   "metadata": {
    "ExecuteTime": {
     "end_time": "2025-03-02T11:34:34.054679Z",
     "start_time": "2025-03-02T11:34:33.883922Z"
    }
   },
   "source": [
    "plot_predictions(predictions=Y_pred_new)"
   ],
   "outputs": [
    {
     "data": {
      "text/plain": [
       "<Figure size 1000x700 with 1 Axes>"
      ],
      "image/png": "[encoded data removed]"
     },
     "metadata": {},
     "output_type": "display_data"
    }
   ],
   "execution_count": 24
  },
  {
   "metadata": {},
   "cell_type": "markdown",
   "source": [
    "## Saving a model in PyTorch\n",
    "\n",
    "There are 3 main methods to save and load in torch\n",
    "1. `torch.save` - allows you to save a pytorch object in pickle format\n",
    "2. `torch.load()` - allows you to load a saved pytorch object\n",
    "3. `torch.nn.Module.load_state_dict()` - this allows to load a model's saved state dictionary"
   ]
  },
  {
   "metadata": {
    "ExecuteTime": {
     "end_time": "2025-03-02T11:34:34.081209Z",
     "start_time": "2025-03-02T11:34:34.072405Z"
    }
   },
   "cell_type": "code",
   "source": "model_0.state_dict()",
   "outputs": [
    {
     "data": {
      "text/plain": [
       "OrderedDict([('weights', tensor([0.5784])), ('bias', tensor([0.3513]))])"
      ]
     },
     "execution_count": 25,
     "metadata": {},
     "output_type": "execute_result"
    }
   ],
   "execution_count": 25
  },
  {
   "metadata": {
    "ExecuteTime": {
     "end_time": "2025-03-02T11:39:44.758894Z",
     "start_time": "2025-03-02T11:39:44.750124Z"
    }
   },
   "cell_type": "code",
   "source": [
    "# Saving our PyTorch model\n",
    "from pathlib import Path\n",
    "\n",
    "# 1. Create model's directory\n",
    "MODEL_PATH = Path(\"models\")\n",
    "MODEL_PATH.mkdir(exist_ok=True, parents=True)\n",
    "\n",
    "# 2. Create model save path\n",
    "MODEL_NAME = \"01_pytorch_wf_model.pth\"\n",
    "MODEL_SAVE_PATH = MODEL_PATH / MODEL_NAME\n",
    "\n",
    "# 3. Save the model state dict\n",
    "print(f\"Saving model to {MODEL_SAVE_PATH}\")\n",
    "torch.save(model_0.state_dict(), MODEL_SAVE_PATH)"
   ],
   "outputs": [
    {
     "name": "stdout",
     "output_type": "stream",
     "text": [
      "Saving model to models\\01_pytorch_wf_model.pth\n"
     ]
    }
   ],
   "execution_count": 35
  },
  {
   "metadata": {
    "ExecuteTime": {
     "end_time": "2025-03-02T11:39:48.810430Z",
     "start_time": "2025-03-02T11:39:48.802387Z"
    }
   },
   "cell_type": "code",
   "source": "model_0",
   "outputs": [
    {
     "data": {
      "text/plain": [
       "LinearRegressionModel()"
      ]
     },
     "execution_count": 36,
     "metadata": {},
     "output_type": "execute_result"
    }
   ],
   "execution_count": 36
  },
  {
   "metadata": {},
   "cell_type": "markdown",
   "source": [
    "## Loading a Pytorch model\n",
    "\n",
    "Since we saved our model's `state_dict()` rather than the entire model, we'll create a new instance of our model class and load the saved `state_dict()` into that."
   ]
  },
  {
   "metadata": {
    "ExecuteTime": {
     "end_time": "2025-03-02T11:39:51.304485Z",
     "start_time": "2025-03-02T11:39:51.296602Z"
    }
   },
   "cell_type": "code",
   "source": "model_0.state_dict()",
   "outputs": [
    {
     "data": {
      "text/plain": [
       "OrderedDict([('weights', tensor([0.6990])), ('bias', tensor([0.3093]))])"
      ]
     },
     "execution_count": 37,
     "metadata": {},
     "output_type": "execute_result"
    }
   ],
   "execution_count": 37
  },
  {
   "metadata": {
    "ExecuteTime": {
     "end_time": "2025-03-02T11:39:54.161023Z",
     "start_time": "2025-03-02T11:39:54.148623Z"
    }
   },
   "cell_type": "code",
   "source": [
    "# To load in a saved state_dict we have to instantiate a new instance of our model class\n",
    "\n",
    "loaded_model_0 = LinearRegressionModel()\n",
    "\n",
    "#Load the saved state_dict() of model_0 (this will be the new instance with updated params)\n",
    "loaded_model_0.load_state_dict(torch.load(MODEL_SAVE_PATH))"
   ],
   "outputs": [
    {
     "data": {
      "text/plain": [
       "<All keys matched successfully>"
      ]
     },
     "execution_count": 38,
     "metadata": {},
     "output_type": "execute_result"
    }
   ],
   "execution_count": 38
  },
  {
   "metadata": {
    "ExecuteTime": {
     "end_time": "2025-03-02T11:39:58.573923Z",
     "start_time": "2025-03-02T11:39:58.567092Z"
    }
   },
   "cell_type": "code",
   "source": "loaded_model_0.state_dict()",
   "outputs": [
    {
     "data": {
      "text/plain": [
       "OrderedDict([('weights', tensor([0.6990])), ('bias', tensor([0.3093]))])"
      ]
     },
     "execution_count": 39,
     "metadata": {},
     "output_type": "execute_result"
    }
   ],
   "execution_count": 39
  },
  {
   "metadata": {
    "ExecuteTime": {
     "end_time": "2025-03-02T11:40:02.459365Z",
     "start_time": "2025-03-02T11:40:02.451108Z"
    }
   },
   "cell_type": "code",
   "source": [
    "# Make some preds with our loaded model\n",
    "loaded_model_0.eval()\n",
    "with torch.inference_mode():\n",
    "    loaded_model_pred = loaded_model_0(X_test)\n",
    "\n",
    "loaded_model_pred"
   ],
   "outputs": [
    {
     "data": {
      "text/plain": [
       "tensor([[0.8685],\n",
       "        [0.8825],\n",
       "        [0.8965],\n",
       "        [0.9105],\n",
       "        [0.9245],\n",
       "        [0.9384],\n",
       "        [0.9524],\n",
       "        [0.9664],\n",
       "        [0.9804],\n",
       "        [0.9944]])"
      ]
     },
     "execution_count": 40,
     "metadata": {},
     "output_type": "execute_result"
    }
   ],
   "execution_count": 40
  },
  {
   "metadata": {
    "ExecuteTime": {
     "end_time": "2025-03-02T11:41:55.974079Z",
     "start_time": "2025-03-02T11:41:55.965956Z"
    }
   },
   "cell_type": "code",
   "source": [
    "# Compare loaded model preds with original model preds\n",
    "model_0.eval()\n",
    "with torch.inference_mode():\n",
    "    model_0_pred = model_0(X_test)\n",
    "model_0_pred"
   ],
   "outputs": [
    {
     "data": {
      "text/plain": [
       "tensor([[0.8685],\n",
       "        [0.8825],\n",
       "        [0.8965],\n",
       "        [0.9105],\n",
       "        [0.9245],\n",
       "        [0.9384],\n",
       "        [0.9524],\n",
       "        [0.9664],\n",
       "        [0.9804],\n",
       "        [0.9944]])"
      ]
     },
     "execution_count": 44,
     "metadata": {},
     "output_type": "execute_result"
    }
   ],
   "execution_count": 44
  }
 ],
 "metadata": {
  "kernelspec": {
   "display_name": "base",
   "language": "python",
   "name": "python3"
  },
  "language_info": {
   "codemirror_mode": {
    "name": "ipython",
    "version": 3
   },
   "file_extension": ".py",
   "mimetype": "text/x-python",
   "name": "python",
   "nbconvert_exporter": "python",
   "pygments_lexer": "ipython3",
   "version": "3.12.7"
  }
 },
 "nbformat": 4,
 "nbformat_minor": 2
}
