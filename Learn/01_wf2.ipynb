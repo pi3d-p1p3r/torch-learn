{
 "cells": [
  {
   "metadata": {},
   "cell_type": "markdown",
   "source": [
    "## 6. Putting it all together\n",
    "\n",
    "Let's go back through the steps above and see it all in one place"
   ]
  },
  {
   "metadata": {
    "ExecuteTime": {
     "end_time": "2025-03-03T07:16:57.699379Z",
     "start_time": "2025-03-03T07:16:53.745448Z"
    }
   },
   "cell_type": "code",
   "source": [
    "import torch\n",
    "from torch import nn\n",
    "import matplotlib.pyplot as plt\n",
    "\n",
    "torch.__version__"
   ],
   "outputs": [
    {
     "data": {
      "text/plain": [
       "'2.6.0+cu126'"
      ]
     },
     "execution_count": 2,
     "metadata": {},
     "output_type": "execute_result"
    }
   ],
   "execution_count": 2
  },
  {
   "cell_type": "code",
   "metadata": {
    "ExecuteTime": {
     "end_time": "2025-03-03T07:16:59.090520Z",
     "start_time": "2025-03-03T07:16:57.760529Z"
    }
   },
   "source": [
    "device = torch.device(\"cuda:0\" if torch.cuda.is_available() else \"cpu\")"
   ],
   "outputs": [],
   "execution_count": 3
  },
  {
   "cell_type": "code",
   "metadata": {
    "ExecuteTime": {
     "end_time": "2025-03-03T07:16:59.103315Z",
     "start_time": "2025-03-03T07:16:59.098519Z"
    }
   },
   "source": [
    "device"
   ],
   "outputs": [
    {
     "data": {
      "text/plain": [
       "device(type='cuda', index=0)"
      ]
     },
     "execution_count": 4,
     "metadata": {},
     "output_type": "execute_result"
    }
   ],
   "execution_count": 4
  },
  {
   "metadata": {},
   "cell_type": "markdown",
   "source": "## 6.1 Data"
  },
  {
   "metadata": {
    "ExecuteTime": {
     "end_time": "2025-03-03T07:16:59.221183Z",
     "start_time": "2025-03-03T07:16:59.173772Z"
    }
   },
   "cell_type": "code",
   "outputs": [
    {
     "data": {
      "text/plain": [
       "(tensor([[0.0000],\n",
       "         [0.0200],\n",
       "         [0.0400],\n",
       "         [0.0600],\n",
       "         [0.0800],\n",
       "         [0.1000],\n",
       "         [0.1200],\n",
       "         [0.1400],\n",
       "         [0.1600],\n",
       "         [0.1800]]),\n",
       " tensor([[0.3000],\n",
       "         [0.3140],\n",
       "         [0.3280],\n",
       "         [0.3420],\n",
       "         [0.3560],\n",
       "         [0.3700],\n",
       "         [0.3840],\n",
       "         [0.3980],\n",
       "         [0.4120],\n",
       "         [0.4260]]))"
      ]
     },
     "execution_count": 5,
     "metadata": {},
     "output_type": "execute_result"
    }
   ],
   "execution_count": 5,
   "source": [
    "weight = 0.7\n",
    "bias = 0.3\n",
    "\n",
    "start = 0\n",
    "end = 1\n",
    "step = 0.02\n",
    "\n",
    "X = torch.arange(start, end, step).unsqueeze(dim=1)\n",
    "y = weight * X + bias\n",
    "\n",
    "X[:10], y[:10]"
   ]
  },
  {
   "metadata": {},
   "cell_type": "markdown",
   "source": "## Split the data"
  },
  {
   "metadata": {
    "ExecuteTime": {
     "end_time": "2025-03-03T07:18:03.415537Z",
     "start_time": "2025-03-03T07:18:03.409538Z"
    }
   },
   "cell_type": "code",
   "outputs": [
    {
     "data": {
      "text/plain": [
       "(40, 40, 10, 10)"
      ]
     },
     "execution_count": 6,
     "metadata": {},
     "output_type": "execute_result"
    }
   ],
   "execution_count": 6,
   "source": [
    "# Create a train/test split\n",
    "\n",
    "train_split = int(0.8 * len(X))\n",
    "X_train, y_train = X[:train_split], y[:train_split]\n",
    "X_test, y_test = X[train_split:], y[train_split:]\n",
    "\n",
    "len(X_train), len(y_train), len(X_test), len(y_test)"
   ]
  },
  {
   "metadata": {
    "ExecuteTime": {
     "end_time": "2025-03-03T07:21:34.878214Z",
     "start_time": "2025-03-03T07:21:34.872211Z"
    }
   },
   "cell_type": "code",
   "source": [
    "# Define the plot_predictions() function\n",
    "def plot_predictions(train_data=X_train,\n",
    "                     train_labels=y_train,\n",
    "                     test_data=X_test,\n",
    "                     test_labels=y_test,\n",
    "                     predictions=None):\n",
    "    plt.figure(figsize=(10, 7))\n",
    "\n",
    "    # Plot training data\n",
    "    plt.scatter(train_data, train_labels, label='Train Data', color='blue')\n",
    "\n",
    "    # Plot test data\n",
    "    plt.scatter(test_data, test_labels, label='Test Data', color='green')\n",
    "\n",
    "    # Check if predictions is not None\n",
    "    if predictions is not None:\n",
    "        plt.scatter(test_data, predictions, label='Predictions', color='red')\n",
    "\n",
    "    # Show legend\n",
    "    plt.legend(prop={'size': 14})\n",
    "    plt.show()"
   ],
   "outputs": [],
   "execution_count": 8
  },
  {
   "metadata": {
    "ExecuteTime": {
     "end_time": "2025-03-03T07:21:45.649056Z",
     "start_time": "2025-03-03T07:21:45.466110Z"
    }
   },
   "cell_type": "code",
   "source": [
    "# Plot the data\n",
    "\n",
    "plot_predictions(X_train,y_train,X_test,y_test)"
   ],
   "outputs": [
    {
     "data": {
      "text/plain": [
       "<Figure size 1000x700 with 1 Axes>"
      ],
      "image/png": "[encoded data removed]"
     },
     "metadata": {},
     "output_type": "display_data"
    }
   ],
   "execution_count": 9
  },
  {
   "metadata": {},
   "cell_type": "markdown",
   "source": "## 6.2 Building a PyTorch Linear Model"
  },
  {
   "metadata": {
    "ExecuteTime": {
     "end_time": "2025-03-03T07:30:34.953408Z",
     "start_time": "2025-03-03T07:30:34.933917Z"
    }
   },
   "cell_type": "code",
   "source": [
    "class LinearRegressionModelV2(nn.Module):\n",
    "    def __init__(self):\n",
    "        super().__init__()\n",
    "        # Use nn.Linear() for creating the model parameters / also called linear transform, probing layer, fully connected later, dense layer\n",
    "        self.linear_layer = nn.Linear(in_features=1, out_features=1)\n",
    "\n",
    "    def forward(self, x: torch.Tensor) -> torch.Tensor:\n",
    "        return self.linear_layer(x)\n",
    "\n",
    "# Set the manual seed\n",
    "torch.manual_seed(42)\n",
    "model_1 = LinearRegressionModelV2()\n",
    "model_1, model_1.state_dict()"
   ],
   "outputs": [
    {
     "data": {
      "text/plain": [
       "(LinearRegressionModelV2(\n",
       "   (linear_layer): Linear(in_features=1, out_features=1, bias=True)\n",
       " ),\n",
       " OrderedDict([('linear_layer.weight', tensor([[0.7645]])),\n",
       "              ('linear_layer.bias', tensor([0.8300]))]))"
      ]
     },
     "execution_count": 11,
     "metadata": {},
     "output_type": "execute_result"
    }
   ],
   "execution_count": 11
  },
  {
   "metadata": {
    "ExecuteTime": {
     "end_time": "2025-03-03T07:24:56.884951Z",
     "start_time": "2025-03-03T07:24:56.878115Z"
    }
   },
   "cell_type": "code",
   "source": "X_train[:5], y_train[:5]",
   "outputs": [
    {
     "data": {
      "text/plain": [
       "(tensor([[0.0000],\n",
       "         [0.0200],\n",
       "         [0.0400],\n",
       "         [0.0600],\n",
       "         [0.0800]]),\n",
       " tensor([[0.3000],\n",
       "         [0.3140],\n",
       "         [0.3280],\n",
       "         [0.3420],\n",
       "         [0.3560]]))"
      ]
     },
     "execution_count": 10,
     "metadata": {},
     "output_type": "execute_result"
    }
   ],
   "execution_count": 10
  }
 ],
 "metadata": {
  "kernelspec": {
   "display_name": "base",
   "language": "python",
   "name": "python3"
  },
  "language_info": {
   "codemirror_mode": {
    "name": "ipython",
    "version": 3
   },
   "file_extension": ".py",
   "mimetype": "text/x-python",
   "name": "python",
   "nbconvert_exporter": "python",
   "pygments_lexer": "ipython3",
   "version": "3.12.7"
  }
 },
 "nbformat": 4,
 "nbformat_minor": 2
}
