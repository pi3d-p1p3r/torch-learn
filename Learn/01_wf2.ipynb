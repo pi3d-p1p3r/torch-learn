{
 "cells": [
  {
   "metadata": {},
   "cell_type": "markdown",
   "source": [
    "## 6. Putting it all together\n",
    "\n",
    "Let's go back through the steps above and see it all in one place"
   ]
  },
  {
   "metadata": {
    "ExecuteTime": {
     "end_time": "2025-03-03T09:42:27.350508Z",
     "start_time": "2025-03-03T09:42:27.346824Z"
    }
   },
   "cell_type": "code",
   "source": [
    "import torch\n",
    "from torch import nn\n",
    "import matplotlib.pyplot as plt\n",
    "\n",
    "torch.__version__"
   ],
   "outputs": [
    {
     "data": {
      "text/plain": [
       "'2.6.0+cu126'"
      ]
     },
     "execution_count": 34,
     "metadata": {},
     "output_type": "execute_result"
    }
   ],
   "execution_count": 34
  },
  {
   "cell_type": "code",
   "metadata": {
    "ExecuteTime": {
     "end_time": "2025-03-03T09:42:27.369585Z",
     "start_time": "2025-03-03T09:42:27.366507Z"
    }
   },
   "source": [
    "device = torch.device(\"cuda:0\" if torch.cuda.is_available() else \"cpu\")"
   ],
   "outputs": [],
   "execution_count": 35
  },
  {
   "cell_type": "code",
   "metadata": {
    "ExecuteTime": {
     "end_time": "2025-03-03T09:42:27.425716Z",
     "start_time": "2025-03-03T09:42:27.421594Z"
    }
   },
   "source": [
    "device"
   ],
   "outputs": [
    {
     "data": {
      "text/plain": [
       "device(type='cuda', index=0)"
      ]
     },
     "execution_count": 36,
     "metadata": {},
     "output_type": "execute_result"
    }
   ],
   "execution_count": 36
  },
  {
   "metadata": {},
   "cell_type": "markdown",
   "source": "## 6.1 Data"
  },
  {
   "metadata": {
    "ExecuteTime": {
     "end_time": "2025-03-03T09:42:27.487047Z",
     "start_time": "2025-03-03T09:42:27.470719Z"
    }
   },
   "cell_type": "code",
   "source": [
    "weight = 0.7\n",
    "bias = 0.3\n",
    "\n",
    "start = 0\n",
    "end = 1\n",
    "step = 0.02\n",
    "\n",
    "X = torch.arange(start, end, step).unsqueeze(dim=1)\n",
    "y = weight * X + bias\n",
    "\n",
    "X[:10], y[:10]"
   ],
   "outputs": [
    {
     "data": {
      "text/plain": [
       "(tensor([[0.0000],\n",
       "         [0.0200],\n",
       "         [0.0400],\n",
       "         [0.0600],\n",
       "         [0.0800],\n",
       "         [0.1000],\n",
       "         [0.1200],\n",
       "         [0.1400],\n",
       "         [0.1600],\n",
       "         [0.1800]]),\n",
       " tensor([[0.3000],\n",
       "         [0.3140],\n",
       "         [0.3280],\n",
       "         [0.3420],\n",
       "         [0.3560],\n",
       "         [0.3700],\n",
       "         [0.3840],\n",
       "         [0.3980],\n",
       "         [0.4120],\n",
       "         [0.4260]]))"
      ]
     },
     "execution_count": 37,
     "metadata": {},
     "output_type": "execute_result"
    }
   ],
   "execution_count": 37
  },
  {
   "metadata": {},
   "cell_type": "markdown",
   "source": "## Split the data"
  },
  {
   "metadata": {
    "ExecuteTime": {
     "end_time": "2025-03-03T09:42:27.536498Z",
     "start_time": "2025-03-03T09:42:27.530959Z"
    }
   },
   "cell_type": "code",
   "source": [
    "# Create a train/test split\n",
    "\n",
    "train_split = int(0.8 * len(X))\n",
    "X_train, y_train = X[:train_split], y[:train_split]\n",
    "X_test, y_test = X[train_split:], y[train_split:]\n",
    "\n",
    "len(X_train), len(y_train), len(X_test), len(y_test)"
   ],
   "outputs": [
    {
     "data": {
      "text/plain": [
       "(40, 40, 10, 10)"
      ]
     },
     "execution_count": 38,
     "metadata": {},
     "output_type": "execute_result"
    }
   ],
   "execution_count": 38
  },
  {
   "metadata": {
    "ExecuteTime": {
     "end_time": "2025-03-03T09:42:27.571163Z",
     "start_time": "2025-03-03T09:42:27.566393Z"
    }
   },
   "cell_type": "code",
   "source": [
    "# Define the plot_predictions() function\n",
    "def plot_predictions(train_data=X_train,\n",
    "                     train_labels=y_train,\n",
    "                     test_data=X_test,\n",
    "                     test_labels=y_test,\n",
    "                     predictions=None):\n",
    "    plt.figure(figsize=(10, 7))\n",
    "\n",
    "    # Plot training data\n",
    "    plt.scatter(train_data, train_labels, label='Train Data', color='blue')\n",
    "\n",
    "    # Plot test data\n",
    "    plt.scatter(test_data, test_labels, label='Test Data', color='green')\n",
    "\n",
    "    # Check if predictions is not None\n",
    "    if predictions is not None:\n",
    "        plt.scatter(test_data, predictions, label='Predictions', color='red')\n",
    "\n",
    "    # Show legend\n",
    "    plt.legend(prop={'size': 14})\n",
    "    plt.show()"
   ],
   "outputs": [],
   "execution_count": 39
  },
  {
   "metadata": {
    "ExecuteTime": {
     "end_time": "2025-03-03T09:42:27.778447Z",
     "start_time": "2025-03-03T09:42:27.655127Z"
    }
   },
   "cell_type": "code",
   "source": [
    "# Plot the data\n",
    "\n",
    "plot_predictions(X_train,y_train,X_test,y_test)"
   ],
   "outputs": [
    {
     "data": {
      "text/plain": [
       "<Figure size 1000x700 with 1 Axes>"
      ],
      "image/png": "[encoded data removed]"
     },
     "metadata": {},
     "output_type": "display_data"
    }
   ],
   "execution_count": 40
  },
  {
   "metadata": {},
   "cell_type": "markdown",
   "source": "## 6.2 Building a PyTorch Linear Model"
  },
  {
   "metadata": {
    "ExecuteTime": {
     "end_time": "2025-03-03T09:42:27.798357Z",
     "start_time": "2025-03-03T09:42:27.785447Z"
    }
   },
   "cell_type": "code",
   "source": [
    "class LinearRegressionModelV2(nn.Module):\n",
    "    def __init__(self):\n",
    "        super().__init__()\n",
    "        # Use nn.Linear() for creating the model parameters / also called linear transform, probing layer, fully connected later, dense layer\n",
    "        self.linear_layer = nn.Linear(in_features=1, out_features=1)\n",
    "\n",
    "    def forward(self, x: torch.Tensor) -> torch.Tensor:\n",
    "        return self.linear_layer(x)\n",
    "\n",
    "# Set the manual seed\n",
    "torch.manual_seed(42)\n",
    "model_1 = LinearRegressionModelV2()\n",
    "model_1, model_1.state_dict()"
   ],
   "outputs": [
    {
     "data": {
      "text/plain": [
       "(LinearRegressionModelV2(\n",
       "   (linear_layer): Linear(in_features=1, out_features=1, bias=True)\n",
       " ),\n",
       " OrderedDict([('linear_layer.weight', tensor([[0.7645]])),\n",
       "              ('linear_layer.bias', tensor([0.8300]))]))"
      ]
     },
     "execution_count": 41,
     "metadata": {},
     "output_type": "execute_result"
    }
   ],
   "execution_count": 41
  },
  {
   "metadata": {
    "ExecuteTime": {
     "end_time": "2025-03-03T09:42:27.862935Z",
     "start_time": "2025-03-03T09:42:27.857309Z"
    }
   },
   "cell_type": "code",
   "source": "X_train[:5], y_train[:5]",
   "outputs": [
    {
     "data": {
      "text/plain": [
       "(tensor([[0.0000],\n",
       "         [0.0200],\n",
       "         [0.0400],\n",
       "         [0.0600],\n",
       "         [0.0800]]),\n",
       " tensor([[0.3000],\n",
       "         [0.3140],\n",
       "         [0.3280],\n",
       "         [0.3420],\n",
       "         [0.3560]]))"
      ]
     },
     "execution_count": 42,
     "metadata": {},
     "output_type": "execute_result"
    }
   ],
   "execution_count": 42
  },
  {
   "metadata": {},
   "cell_type": "markdown",
   "source": "### Choose Device"
  },
  {
   "metadata": {
    "ExecuteTime": {
     "end_time": "2025-03-03T09:42:27.874123Z",
     "start_time": "2025-03-03T09:42:27.869932Z"
    }
   },
   "cell_type": "code",
   "source": "next(model_1.parameters()).device",
   "outputs": [
    {
     "data": {
      "text/plain": [
       "device(type='cpu')"
      ]
     },
     "execution_count": 43,
     "metadata": {},
     "output_type": "execute_result"
    }
   ],
   "execution_count": 43
  },
  {
   "metadata": {
    "ExecuteTime": {
     "end_time": "2025-03-03T09:42:27.910619Z",
     "start_time": "2025-03-03T09:42:27.903586Z"
    }
   },
   "cell_type": "code",
   "source": [
    "# Set the model to use the target device\n",
    "device = torch.device(\"cuda:0\" if torch.cuda.is_available() else \"cpu\")\n",
    "model_1.to(device)\n",
    "next(model_1.parameters()).device"
   ],
   "outputs": [
    {
     "data": {
      "text/plain": [
       "device(type='cuda', index=0)"
      ]
     },
     "execution_count": 44,
     "metadata": {},
     "output_type": "execute_result"
    }
   ],
   "execution_count": 44
  },
  {
   "metadata": {},
   "cell_type": "markdown",
   "source": [
    "### 6.3 Training\n",
    "\n",
    "For training we need:\n",
    "* Loss function\n",
    "* Optimizer\n",
    "* Training loop\n",
    "* Testing loop"
   ]
  },
  {
   "metadata": {
    "ExecuteTime": {
     "end_time": "2025-03-03T09:42:27.944599Z",
     "start_time": "2025-03-03T09:42:27.940896Z"
    }
   },
   "cell_type": "code",
   "source": [
    "# Setup loss function\n",
    "loss_fn = nn.L1Loss()\n",
    "\n",
    "# Set up the optimizer\n",
    "optimizer = torch.optim.SGD(model_1.parameters(), lr=0.01)\n"
   ],
   "outputs": [],
   "execution_count": 45
  },
  {
   "metadata": {
    "ExecuteTime": {
     "end_time": "2025-03-03T09:42:28.116938Z",
     "start_time": "2025-03-03T09:42:27.973386Z"
    }
   },
   "cell_type": "code",
   "source": [
    "# Let's write a training loop\n",
    "torch.manual_seed(42)\n",
    "\n",
    "epochs = 200\n",
    "\n",
    "# Put data on the target device (device-agnostic code)\n",
    "X_train, y_train = X_train.to(device), y_train.to(device)\n",
    "X_test, y_test = X_test.to(device), y_test.to(device)\n",
    "\n",
    "for epoch in range(epochs):\n",
    "    model_1.train()\n",
    "\n",
    "    # 1. Forward oass\n",
    "    y_pred = model_1(X_train)\n",
    "\n",
    "    # 2. Calculate loss\n",
    "    loss = loss_fn(y_pred, y_train)\n",
    "\n",
    "    # 3. Optimizer zero grad\n",
    "    optimizer.zero_grad()\n",
    "\n",
    "    # 4. Perform backpropagation\n",
    "    loss.backward()\n",
    "\n",
    "    # 5. Optimizer step\n",
    "    optimizer.step()\n",
    "\n",
    "    ### Testing\n",
    "    model_1.eval()\n",
    "    with torch.inference_mode():\n",
    "        test_pred = model_1(X_test)\n",
    "        test_loss = loss_fn(test_pred, y_test)\n",
    "\n",
    "    if epoch % 10 == 0:\n",
    "        print(f\"Epoch {epoch}, Train Loss: {loss.item():.4f}, Test Loss: {test_loss.item():.4f}\")"
   ],
   "outputs": [
    {
     "name": "stdout",
     "output_type": "stream",
     "text": [
      "Epoch 0, Train Loss: 0.5552, Test Loss: 0.5740\n",
      "Epoch 10, Train Loss: 0.4400, Test Loss: 0.4393\n",
      "Epoch 20, Train Loss: 0.3248, Test Loss: 0.3046\n",
      "Epoch 30, Train Loss: 0.2095, Test Loss: 0.1698\n",
      "Epoch 40, Train Loss: 0.0943, Test Loss: 0.0351\n",
      "Epoch 50, Train Loss: 0.0239, Test Loss: 0.0478\n",
      "Epoch 60, Train Loss: 0.0200, Test Loss: 0.0458\n",
      "Epoch 70, Train Loss: 0.0165, Test Loss: 0.0375\n",
      "Epoch 80, Train Loss: 0.0131, Test Loss: 0.0299\n",
      "Epoch 90, Train Loss: 0.0097, Test Loss: 0.0217\n",
      "Epoch 100, Train Loss: 0.0062, Test Loss: 0.0141\n",
      "Epoch 110, Train Loss: 0.0028, Test Loss: 0.0058\n",
      "Epoch 120, Train Loss: 0.0013, Test Loss: 0.0138\n",
      "Epoch 130, Train Loss: 0.0013, Test Loss: 0.0138\n",
      "Epoch 140, Train Loss: 0.0013, Test Loss: 0.0138\n",
      "Epoch 150, Train Loss: 0.0013, Test Loss: 0.0138\n",
      "Epoch 160, Train Loss: 0.0013, Test Loss: 0.0138\n",
      "Epoch 170, Train Loss: 0.0013, Test Loss: 0.0138\n",
      "Epoch 180, Train Loss: 0.0013, Test Loss: 0.0138\n",
      "Epoch 190, Train Loss: 0.0013, Test Loss: 0.0138\n"
     ]
    }
   ],
   "execution_count": 46
  },
  {
   "metadata": {
    "ExecuteTime": {
     "end_time": "2025-03-03T09:42:28.177949Z",
     "start_time": "2025-03-03T09:42:28.168950Z"
    }
   },
   "cell_type": "code",
   "source": "model_1.state_dict()",
   "outputs": [
    {
     "data": {
      "text/plain": [
       "OrderedDict([('linear_layer.weight', tensor([[0.6968]], device='cuda:0')),\n",
       "             ('linear_layer.bias', tensor([0.3025], device='cuda:0'))])"
      ]
     },
     "execution_count": 47,
     "metadata": {},
     "output_type": "execute_result"
    }
   ],
   "execution_count": 47
  },
  {
   "metadata": {},
   "cell_type": "markdown",
   "source": "## 6.4 Making and evaluating predictions"
  },
  {
   "metadata": {
    "ExecuteTime": {
     "end_time": "2025-03-03T09:42:28.274819Z",
     "start_time": "2025-03-03T09:42:28.266121Z"
    }
   },
   "cell_type": "code",
   "source": [
    "# Turn model into evaluation mode\n",
    "model_1.eval()\n",
    "\n",
    "# Make predictions on the test data\n",
    "with torch.inference_mode():\n",
    "    y_preds = model_1(X_test)\n",
    "\n",
    "y_preds"
   ],
   "outputs": [
    {
     "data": {
      "text/plain": [
       "tensor([[0.8600],\n",
       "        [0.8739],\n",
       "        [0.8878],\n",
       "        [0.9018],\n",
       "        [0.9157],\n",
       "        [0.9296],\n",
       "        [0.9436],\n",
       "        [0.9575],\n",
       "        [0.9714],\n",
       "        [0.9854]], device='cuda:0')"
      ]
     },
     "execution_count": 48,
     "metadata": {},
     "output_type": "execute_result"
    }
   ],
   "execution_count": 48
  },
  {
   "metadata": {
    "ExecuteTime": {
     "end_time": "2025-03-03T09:42:28.442459Z",
     "start_time": "2025-03-03T09:42:28.308515Z"
    }
   },
   "cell_type": "code",
   "source": [
    "# Check out our model predictions visually\n",
    "plot_predictions(predictions = y_preds.cpu())"
   ],
   "outputs": [
    {
     "data": {
      "text/plain": [
       "<Figure size 1000x700 with 1 Axes>"
      ],
      "image/png": "[encoded data removed]"
     },
     "metadata": {},
     "output_type": "display_data"
    }
   ],
   "execution_count": 49
  },
  {
   "metadata": {},
   "cell_type": "markdown",
   "source": "## 6.5 Saving and loading a trained model"
  },
  {
   "metadata": {
    "ExecuteTime": {
     "end_time": "2025-03-03T09:42:28.456724Z",
     "start_time": "2025-03-03T09:42:28.449458Z"
    }
   },
   "cell_type": "code",
   "source": [
    "from pathlib import Path\n",
    "\n",
    "# 1. Create model's directory\n",
    "MODEL_PATH = Path(\"models\")\n",
    "MODEL_PATH.mkdir(exist_ok=True, parents=True)\n",
    "\n",
    "# 2. Create model save path\n",
    "MODEL_NAME = \"01_wf2_linear_model_v2.pth\"\n",
    "MODEL_SAVE_PATH = MODEL_PATH / MODEL_NAME\n",
    "\n",
    "# 3. Save the model state dict\n",
    "print(f\"Saving model to {MODEL_SAVE_PATH}\")\n",
    "torch.save(model_1.state_dict(), f = MODEL_SAVE_PATH)"
   ],
   "outputs": [
    {
     "name": "stdout",
     "output_type": "stream",
     "text": [
      "Saving model to models\\01_wf2_linear_model_v2.pth\n"
     ]
    }
   ],
   "execution_count": 50
  },
  {
   "metadata": {
    "ExecuteTime": {
     "end_time": "2025-03-03T09:42:28.509752Z",
     "start_time": "2025-03-03T09:42:28.501751Z"
    }
   },
   "cell_type": "code",
   "source": "model_1.state_dict()",
   "outputs": [
    {
     "data": {
      "text/plain": [
       "OrderedDict([('linear_layer.weight', tensor([[0.6968]], device='cuda:0')),\n",
       "             ('linear_layer.bias', tensor([0.3025], device='cuda:0'))])"
      ]
     },
     "execution_count": 51,
     "metadata": {},
     "output_type": "execute_result"
    }
   ],
   "execution_count": 51
  },
  {
   "metadata": {
    "ExecuteTime": {
     "end_time": "2025-03-03T09:42:28.564284Z",
     "start_time": "2025-03-03T09:42:28.556413Z"
    }
   },
   "cell_type": "code",
   "source": [
    "# Load a PyTorch model\n",
    "\n",
    "# Create a new instance of Linear Regression model V2\n",
    "loaded_model_1= LinearRegressionModelV2()\n",
    "\n",
    "# Load the saved model_1 state_dict\n",
    "loaded_model_1.load_state_dict(torch.load(MODEL_SAVE_PATH))\n",
    "\n",
    "# Put the loaded model to device\n",
    "loaded_model_1.to(device)"
   ],
   "outputs": [
    {
     "data": {
      "text/plain": [
       "LinearRegressionModelV2(\n",
       "  (linear_layer): Linear(in_features=1, out_features=1, bias=True)\n",
       ")"
      ]
     },
     "execution_count": 52,
     "metadata": {},
     "output_type": "execute_result"
    }
   ],
   "execution_count": 52
  },
  {
   "metadata": {
    "ExecuteTime": {
     "end_time": "2025-03-03T09:42:28.664567Z",
     "start_time": "2025-03-03T09:42:28.660056Z"
    }
   },
   "cell_type": "code",
   "source": "next(loaded_model_1.parameters()).device",
   "outputs": [
    {
     "data": {
      "text/plain": [
       "device(type='cuda', index=0)"
      ]
     },
     "execution_count": 53,
     "metadata": {},
     "output_type": "execute_result"
    }
   ],
   "execution_count": 53
  },
  {
   "metadata": {
    "ExecuteTime": {
     "end_time": "2025-03-03T09:42:28.681347Z",
     "start_time": "2025-03-03T09:42:28.672566Z"
    }
   },
   "cell_type": "code",
   "source": "loaded_model_1.eval().state_dict()",
   "outputs": [
    {
     "data": {
      "text/plain": [
       "OrderedDict([('linear_layer.weight', tensor([[0.6968]], device='cuda:0')),\n",
       "             ('linear_layer.bias', tensor([0.3025], device='cuda:0'))])"
      ]
     },
     "execution_count": 54,
     "metadata": {},
     "output_type": "execute_result"
    }
   ],
   "execution_count": 54
  },
  {
   "metadata": {
    "ExecuteTime": {
     "end_time": "2025-03-03T09:42:28.787209Z",
     "start_time": "2025-03-03T09:42:28.782700Z"
    }
   },
   "cell_type": "code",
   "source": [
    "# Evaluate loaded model\n",
    "loaded_model_1.eval()\n",
    "with torch.inference_mode():\n",
    "    loaded_model_1_preds = loaded_model_1(X_test)\n",
    "    y_preds == loaded_model_1_preds"
   ],
   "outputs": [],
   "execution_count": 55
  },
  {
   "metadata": {
    "ExecuteTime": {
     "end_time": "2025-03-03T09:42:28.803962Z",
     "start_time": "2025-03-03T09:42:28.795208Z"
    }
   },
   "cell_type": "code",
   "source": "loaded_model_1_preds",
   "outputs": [
    {
     "data": {
      "text/plain": [
       "tensor([[0.8600],\n",
       "        [0.8739],\n",
       "        [0.8878],\n",
       "        [0.9018],\n",
       "        [0.9157],\n",
       "        [0.9296],\n",
       "        [0.9436],\n",
       "        [0.9575],\n",
       "        [0.9714],\n",
       "        [0.9854]], device='cuda:0')"
      ]
     },
     "execution_count": 56,
     "metadata": {},
     "output_type": "execute_result"
    }
   ],
   "execution_count": 56
  },
  {
   "metadata": {},
   "cell_type": "code",
   "outputs": [],
   "execution_count": null,
   "source": ""
  }
 ],
 "metadata": {
  "kernelspec": {
   "display_name": "base",
   "language": "python",
   "name": "python3"
  },
  "language_info": {
   "codemirror_mode": {
    "name": "ipython",
    "version": 3
   },
   "file_extension": ".py",
   "mimetype": "text/x-python",
   "name": "python",
   "nbconvert_exporter": "python",
   "pygments_lexer": "ipython3",
   "version": "3.12.7"
  }
 },
 "nbformat": 4,
 "nbformat_minor": 2
}
